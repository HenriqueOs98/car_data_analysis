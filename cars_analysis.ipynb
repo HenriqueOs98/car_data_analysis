{
 "cells": [
  {
   "cell_type": "code",
   "execution_count": null,
   "id": "0a95a04d",
   "metadata": {},
   "outputs": [
    {
     "name": "stdout",
     "output_type": "stream",
     "text": [
      "   Unnamed: 0           modelo   preco  unidades_vendidas  cidade_alcool  \\\n",
      "0           1  Volkswagen Polo   79400              16471            9.3   \n",
      "1           2     Hyundai HB20   82982              12126            8.5   \n",
      "2           3      Fiat Strada  100050              10387            8.4   \n",
      "3           4   Chevrolet Onix   83512              10260            9.4   \n",
      "4           5        Fiat Mobi   62653               8582            9.2   \n",
      "\n",
      "   cidade_gasolina  estrada_alcool  estrada_gasolina  custo_revisao  \n",
      "0             13.5            10.5              15.0        3578.27  \n",
      "1             12.5             9.9              14.1        2946.10  \n",
      "2             11.9             9.2              13.3        3540.00  \n",
      "3             13.5            11.2              16.0        3696.00  \n",
      "4             13.5            10.2              15.2        3752.00  \n",
      "<class 'pandas.core.frame.DataFrame'>\n",
      "RangeIndex: 27 entries, 0 to 26\n",
      "Data columns (total 9 columns):\n",
      " #   Column             Non-Null Count  Dtype  \n",
      "---  ------             --------------  -----  \n",
      " 0   Unnamed: 0         27 non-null     int64  \n",
      " 1   modelo             27 non-null     object \n",
      " 2   preco              27 non-null     int64  \n",
      " 3   unidades_vendidas  27 non-null     int64  \n",
      " 4   cidade_alcool      27 non-null     float64\n",
      " 5   cidade_gasolina    27 non-null     float64\n",
      " 6   estrada_alcool     27 non-null     float64\n",
      " 7   estrada_gasolina   27 non-null     float64\n",
      " 8   custo_revisao      27 non-null     float64\n",
      "dtypes: float64(5), int64(3), object(1)\n",
      "memory usage: 2.0+ KB\n",
      "None\n"
     ]
    }
   ],
   "source": [
    "import pandas as pd\n",
    "\n",
    "df = pd.read_excel(\"cars.xlsx\")\n",
    "\n",
    "print(df.head())\n",
    "\n",
    "#- Quais são as variáveis numéricas do dataset\n",
    "\n",
    "print(df.info())"
   ]
  },
  {
   "cell_type": "code",
   "execution_count": null,
   "id": "e4f55ccf",
   "metadata": {},
   "outputs": [
    {
     "name": "stdout",
     "output_type": "stream",
     "text": [
      "    Unnamed: 0               modelo   preco  unidades_vendidas  cidade_alcool  \\\n",
      "7            8         Renault Kwid   67672               6602           10.8   \n",
      "16          17          Peugeot 208  100165               3104           10.4   \n",
      "20          21        Renault Logan   90283               1923            9.4   \n",
      "8            9  Chevrolet Onix Plus  117486               6412            9.6   \n",
      "11          12          Fiat Cronos   82316               5036            9.9   \n",
      "\n",
      "    cidade_gasolina  estrada_alcool  estrada_gasolina  custo_revisao  \n",
      "7              15.3            11.0              15.7        3162.95  \n",
      "16             14.7            11.3              16.3        4156.00  \n",
      "20             14.0            10.2              14.9        3710.50  \n",
      "8              13.8            12.5              17.6        3696.00  \n",
      "11             13.8            11.3              16.0        3780.00  \n"
     ]
    }
   ],
   "source": [
    "carros_mais_gastadores = df.sort_values(by='cidade_gasolina', ascending=False).head(5)\n",
    "\n",
    "# - Quais são os 5 carros que mais consomem gasolina na cidade?\n",
    "\n",
    "\n",
    "\n",
    "print(carros_mais_gastadores)"
   ]
  },
  {
   "cell_type": "code",
   "execution_count": null,
   "id": "6dfafd17",
   "metadata": {},
   "outputs": [
    {
     "name": "stdout",
     "output_type": "stream",
     "text": [
      "A media de consumo de alcool na cidade e: 8.73 km/L\n",
      "A media de consumo de alcool na estrada e: 9.90 km/L\n"
     ]
    }
   ],
   "source": [
    "#- Qual a média de consumo de álcool tanto na cidade quanto na estrada?\n",
    "\n",
    "media_cidade = df['cidade_alcool'].mean()\n",
    "\n",
    "media_estrada = df['estrada_alcool'].mean()\n",
    "\n",
    "print(f\"A media de consumo de alcool na cidade e: {media_cidade:.2f} km/L\")\n",
    "print(f\"A media de consumo de alcool na estrada e: {media_estrada:.2f} km/L\")\n"
   ]
  },
  {
   "cell_type": "code",
   "execution_count": 10,
   "id": "579d5778",
   "metadata": {},
   "outputs": [
    {
     "name": "stdout",
     "output_type": "stream",
     "text": [
      "   Unnamed: 0           modelo   preco  unidades_vendidas  cidade_alcool  \\\n",
      "0           1  Volkswagen Polo   79400              16471            9.3   \n",
      "1           2     Hyundai HB20   82982              12126            8.5   \n",
      "2           3      Fiat Strada  100050              10387            8.4   \n",
      "3           4   Chevrolet Onix   83512              10260            9.4   \n",
      "4           5        Fiat Mobi   62653               8582            9.2   \n",
      "\n",
      "   cidade_gasolina  estrada_alcool  estrada_gasolina  custo_revisao  \\\n",
      "0             13.5            10.5              15.0        3578.27   \n",
      "1             12.5             9.9              14.1        2946.10   \n",
      "2             11.9             9.2              13.3        3540.00   \n",
      "3             13.5            11.2              16.0        3696.00   \n",
      "4             13.5            10.2              15.2        3752.00   \n",
      "\n",
      "    montadora  \n",
      "0  Volkswagen  \n",
      "1     Hyundai  \n",
      "2        Fiat  \n",
      "3   Chevrolet  \n",
      "4        Fiat  \n"
     ]
    }
   ],
   "source": [
    "#- Crie uma nova coluna contendo o nome da Montadora para cada carro\n",
    "\n",
    "df['montadora'] = df['modelo'].str.split(' ').str[0]\n",
    "\n",
    "print(df.head())\n"
   ]
  },
  {
   "cell_type": "code",
   "execution_count": 11,
   "id": "e4ad88d9",
   "metadata": {},
   "outputs": [
    {
     "name": "stdout",
     "output_type": "stream",
     "text": [
      "   Unnamed: 0           modelo   preco  unidades_vendidas  cidade_alcool  \\\n",
      "0           1  Volkswagen Polo   79400              16471            9.3   \n",
      "1           2     Hyundai HB20   82982              12126            8.5   \n",
      "2           3      Fiat Strada  100050              10387            8.4   \n",
      "3           4   Chevrolet Onix   83512              10260            9.4   \n",
      "4           5        Fiat Mobi   62653               8582            9.2   \n",
      "\n",
      "   cidade_gasolina  estrada_alcool  estrada_gasolina  custo_revisao  \\\n",
      "0             13.5            10.5              15.0        3578.27   \n",
      "1             12.5             9.9              14.1        2946.10   \n",
      "2             11.9             9.2              13.3        3540.00   \n",
      "3             13.5            11.2              16.0        3696.00   \n",
      "4             13.5            10.2              15.2        3752.00   \n",
      "\n",
      "    montadora  \n",
      "0  Volkswagen  \n",
      "1     Hyundai  \n",
      "2        Fiat  \n",
      "3   Chevrolet  \n",
      "4        Fiat  \n",
      "As 5 montadoras com a maior média de preço são:\n",
      "montadora\n",
      "Nissan        114998.500000\n",
      "Chevrolet     101001.000000\n",
      "Peugeot       100165.000000\n",
      "Volkswagen     98111.666667\n",
      "Toyota         96208.000000\n",
      "Name: preco, dtype: float64\n"
     ]
    }
   ],
   "source": [
    "#-- Liste as 5 montadoras com a maior média de preço de carros\n",
    "\n",
    "\n",
    "\n",
    "df['montadora'] = df['modelo'].str.split(' ').str[0]\n",
    "\n",
    "print(df.head())\n",
    "media_preco_por_montadora = df.groupby('montadora')['preco'].mean().sort_values(ascending=False).head(5)\n",
    "\n",
    "# Exibindo o resultado\n",
    "print(\"As 5 montadoras com a maior média de preço são:\")\n",
    "print(media_preco_por_montadora)"
   ]
  },
  {
   "cell_type": "code",
   "execution_count": 14,
   "id": "c3404806",
   "metadata": {},
   "outputs": [
    {
     "name": "stdout",
     "output_type": "stream",
     "text": [
      "O carro mais vendido para cada montadora é:\n",
      "     montadora              modelo  unidades_vendidas\n",
      "3    Chevrolet      Chevrolet Onix              10260\n",
      "17     Citroen          Citroen C3               3030\n",
      "2         Fiat         Fiat Strada              10387\n",
      "1      Hyundai        Hyundai HB20              12126\n",
      "13      Nissan        Nissan Kicks               4752\n",
      "16     Peugeot         Peugeot 208               3104\n",
      "7      Renault        Renault Kwid               6602\n",
      "18      Toyota  Toyota Yaris sedan               2505\n",
      "0   Volkswagen     Volkswagen Polo              16471\n"
     ]
    }
   ],
   "source": [
    "#- Informe o carro mais vendido para cada montadora\n",
    "\n",
    "indices_carros_mais_vendidos_por_montadora = df.groupby(\"montadora\")['unidades_vendidas'].idxmax()\n",
    "\n",
    "carros_mais_vendidos = df.loc[indices_carros_mais_vendidos_por_montadora]\n",
    "\n",
    "print(\"O carro mais vendido para cada montadora é:\")\n",
    "print(carros_mais_vendidos[['montadora', 'modelo', 'unidades_vendidas']])"
   ]
  },
  {
   "cell_type": "code",
   "execution_count": 13,
   "id": "81094dd0",
   "metadata": {},
   "outputs": [
    {
     "name": "stdout",
     "output_type": "stream",
     "text": [
      "    Unnamed: 0           modelo   preco  unidades_vendidas  cidade_alcool  \\\n",
      "1            2     Hyundai HB20   82982              12126            8.5   \n",
      "12          13    Hyundai HB20S   89844               4811            8.5   \n",
      "13          14     Nissan Kicks  114970               4752            7.7   \n",
      "7            8     Renault Kwid   67672               6602           10.8   \n",
      "10          11    Hyundai Creta  114010               5314            7.1   \n",
      "26          27     Nissan Versa  115027               1086            7.8   \n",
      "19          20   Chevrolet Spin  102005               2026            7.8   \n",
      "25          26     Fiat Fiorino  109529               1159            7.3   \n",
      "2            3      Fiat Strada  100050              10387            8.4   \n",
      "0            1  Volkswagen Polo   79400              16471            9.3   \n",
      "\n",
      "    cidade_gasolina  estrada_alcool  estrada_gasolina  custo_revisao  \\\n",
      "1              12.5             9.9              14.1        2946.10   \n",
      "12             12.0             9.8              14.0        2946.10   \n",
      "13             11.4             9.4              13.7        3006.00   \n",
      "7              15.3            11.0              15.7        3162.95   \n",
      "10             10.1             8.1              11.5        3280.16   \n",
      "26             11.6            10.0              14.1        3336.00   \n",
      "19             11.3             9.1              13.0        3388.00   \n",
      "25             10.7             8.3              12.3        3472.00   \n",
      "2              11.9             9.2              13.3        3540.00   \n",
      "0              13.5            10.5              15.0        3578.27   \n",
      "\n",
      "     montadora  \n",
      "1      Hyundai  \n",
      "12     Hyundai  \n",
      "13      Nissan  \n",
      "7      Renault  \n",
      "10     Hyundai  \n",
      "26      Nissan  \n",
      "19   Chevrolet  \n",
      "25        Fiat  \n",
      "2         Fiat  \n",
      "0   Volkswagen  \n"
     ]
    }
   ],
   "source": [
    "# - Liste os 10 carros com menor custo de manutenção\n",
    "menor_custo_de_revisao = df.sort_values(by=\"custo_revisao\", ascending=True).head(10)\n",
    "\n",
    "print(menor_custo_de_revisao)"
   ]
  },
  {
   "cell_type": "code",
   "execution_count": null,
   "id": "db205fc2",
   "metadata": {},
   "outputs": [
    {
     "name": "stdout",
     "output_type": "stream",
     "text": [
      "Tabela com a nova coluna de Custo Total (em 2 anos):\n",
      "                 modelo  custo_total\n",
      "0       Volkswagen Polo     33308.54\n",
      "1          Hyundai HB20     32330.76\n",
      "2           Fiat Strada     34884.00\n",
      "3        Chevrolet Onix     33872.96\n",
      "4             Fiat Mobi     32316.24\n",
      "5    Volkswagen T-Cross     37891.00\n",
      "6             Fiat Argo     33360.80\n",
      "7          Renault Kwid     31539.66\n",
      "8   Chevrolet Onix Plus     36590.88\n",
      "9    Volkswagen Saveiro     35659.70\n",
      "10        Hyundai Creta     35481.12\n",
      "11          Fiat Cronos     33945.28\n",
      "12        Hyundai HB20S     32879.72\n",
      "13         Nissan Kicks     35009.60\n",
      "14           Fiat Pulse     35404.08\n",
      "15        Fiat Fastback     36534.96\n",
      "16          Peugeot 208     36125.20\n",
      "17           Citroen C3     34251.60\n",
      "18   Toyota Yaris sedan     34747.84\n",
      "19       Chevrolet Spin     34736.40\n",
      "20        Renault Logan     34443.64\n",
      "21       Renault Duster     36002.92\n",
      "22   Toyota Yaris hatch     34747.84\n",
      "23        Renault Oroch     34779.60\n",
      "24      Renault Stepway     33223.24\n",
      "25         Fiat Fiorino     35506.32\n",
      "26         Nissan Versa     35674.16\n"
     ]
    }
   ],
   "source": [
    "\"\"\"- (SUPER DESAFIO) Crie uma nova coluna contendo o custo total do carro. Essa nova coluna é derivada a partir do cálculo contendo:\n",
    "\n",
    "- Custo Total de Consumo de Gasolina em 2 anos, considerando uma média de consumo de 150L por mês\n",
    "\n",
    "- Custo Total de IPVA considerando o valor de 4% do valor carro por ano\n",
    "\n",
    "- Custo Total de Revisão considerando 1 revisão por ano\n",
    "\"\"\"\n",
    "\n",
    "litros_por_mes = 150\n",
    "meses = 24\n",
    "preco_gasolina = 5.50\n",
    "ipva_percentual = 0.04\n",
    "anos = 2\n",
    "\n",
    "\n",
    "# 1. Custo Total de Consumo de Gasolina em 2 anos\n",
    "# A fórmula é: (litros_por_mes * meses) * preco_gasolina\n",
    "custo_gasolina = (litros_por_mes * meses) * preco_gasolina\n",
    "##??\n",
    "# 2. Custo Total de IPVA em 2 anos\n",
    "# A fórmula é: (preco * ipva_percentual * anos)\n",
    "custo_ipva = df['preco'] * ipva_percentual * anos\n",
    "\n",
    "# 3. Custo Total de Revisão em 2 anos\n",
    "# A fórmula é: (custo_revisao * anos)\n",
    "custo_revisao_total = df['custo_revisao'] * anos\n",
    "\n",
    "# --- Criando a nova coluna de Custo Total ---\n",
    "# Somando todos os componentes para cada carro\n",
    "df['custo_total'] = custo_gasolina + custo_ipva + custo_revisao_total\n",
    "\n",
    "# Mostrando o resultado final, com o modelo do carro e o custo total\n",
    "print(\"Tabela com a nova coluna de Custo Total (em 2 anos):\")\n",
    "print(df[['modelo', 'custo_total']])"
   ]
  }
 ],
 "metadata": {
  "kernelspec": {
   "display_name": "car-dataset-analysis",
   "language": "python",
   "name": "python3"
  },
  "language_info": {
   "codemirror_mode": {
    "name": "ipython",
    "version": 3
   },
   "file_extension": ".py",
   "mimetype": "text/x-python",
   "name": "python",
   "nbconvert_exporter": "python",
   "pygments_lexer": "ipython3",
   "version": "3.12.3"
  }
 },
 "nbformat": 4,
 "nbformat_minor": 5
}
